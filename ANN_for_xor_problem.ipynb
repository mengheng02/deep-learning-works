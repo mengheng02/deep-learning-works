{
  "nbformat": 4,
  "nbformat_minor": 0,
  "metadata": {
    "colab": {
      "provenance": [],
      "include_colab_link": true
    },
    "kernelspec": {
      "name": "python3",
      "display_name": "Python 3"
    },
    "language_info": {
      "name": "python"
    }
  },
  "cells": [
    {
      "cell_type": "markdown",
      "metadata": {
        "id": "view-in-github",
        "colab_type": "text"
      },
      "source": [
        "<a href=\"https://colab.research.google.com/github/mengheng02/deep-learning-works/blob/main/ANN_for_xor_problem.ipynb\" target=\"_parent\"><img src=\"https://colab.research.google.com/assets/colab-badge.svg\" alt=\"Open In Colab\"/></a>"
      ]
    },
    {
      "cell_type": "code",
      "source": [
        "from google.colab import drive # Mount the google drive for data loading\n",
        "drive.mount('/content/drive')"
      ],
      "metadata": {
        "colab": {
          "base_uri": "https://localhost:8080/"
        },
        "id": "w78yLSH4XbzF",
        "outputId": "c39caadc-89e7-4f98-8dbf-406c107a5697"
      },
      "execution_count": null,
      "outputs": [
        {
          "output_type": "stream",
          "name": "stdout",
          "text": [
            "Mounted at /content/drive\n"
          ]
        }
      ]
    },
    {
      "cell_type": "markdown",
      "source": [
        "# Import some related dependencies\n",
        "1.   Numpy: a package for array transformation\n",
        "2.   Matplotlib: a package for data visualization\n",
        "3.   Skearn: a package including many machine learning approaches\n",
        "4.   Tensorflow: a package for neural networks modeling\n",
        "5.   Keras: a package for neural networks modeling which is established on Tensorflow"
      ],
      "metadata": {
        "id": "qT46thGjXg2p"
      }
    },
    {
      "cell_type": "code",
      "execution_count": null,
      "metadata": {
        "id": "s1Ttfrzj6qnN"
      },
      "outputs": [],
      "source": [
        "import numpy as np #helps for array operation\n",
        "import matplotlib.pyplot as plt #helps with graphical plots\n",
        "from sklearn.model_selection import train_test_split #helps to split training data and testing data\n",
        "from sklearn.preprocessing import OneHotEncoder #helps for label one-hot encoding\n",
        "from sklearn.metrics import accuracy_score #helps to evaluate the prediction accuracy\n",
        "import keras #helps for ANN model construction\n",
        "import tensorflow as tf #helps for ANN model construction"
      ]
    },
    {
      "cell_type": "markdown",
      "source": [
        "# Create data set of xor problem\n",
        "Data structure and data visualiazation\n"
      ],
      "metadata": {
        "id": "gyw5QVge7h_J"
      }
    },
    {
      "cell_type": "code",
      "source": [
        "X = np.array([[0,0],[0,1],[1,0],[1,1]])  #input\n",
        "y = np.array([[0],[1],[1],[0]])          #corresponding labels"
      ],
      "metadata": {
        "id": "7tt5t8vg6the"
      },
      "execution_count": null,
      "outputs": []
    },
    {
      "cell_type": "code",
      "source": [
        "print ('Size of X:', X.shape) #Size of input\n",
        "print ('Size of y:', y.shape) #Size of labels"
      ],
      "metadata": {
        "colab": {
          "base_uri": "https://localhost:8080/"
        },
        "id": "FX0xmJjtTz6K",
        "outputId": "e928fac7-da53-4888-ccc7-716542c5bc6f"
      },
      "execution_count": null,
      "outputs": [
        {
          "output_type": "stream",
          "name": "stdout",
          "text": [
            "Size of X: (4, 2)\n",
            "Size of y: (4, 1)\n"
          ]
        }
      ]
    },
    {
      "cell_type": "code",
      "source": [
        "onehot = OneHotEncoder()                     #An objective for one-hot package\n",
        "y_onehot = onehot.fit_transform(y).toarray() #Transform labels to be the one-hot format. For example, a sample belongs to the first class(denoted by 0), then its label will be transformed to be [1, 0, 0] for a three-way classification."
      ],
      "metadata": {
        "id": "qLOGS-eKgJHK"
      },
      "execution_count": null,
      "outputs": []
    },
    {
      "cell_type": "code",
      "source": [
        "print (y_onehot.shape) #Size of labels after transformation\n",
        "print (y[0])\n",
        "print (y_onehot[0])"
      ],
      "metadata": {
        "colab": {
          "base_uri": "https://localhost:8080/"
        },
        "id": "KKH6QSbfo-Dr",
        "outputId": "da6b837d-06d5-4a64-e4e8-3138ed39bd32"
      },
      "execution_count": null,
      "outputs": [
        {
          "output_type": "stream",
          "name": "stdout",
          "text": [
            "(4, 2)\n",
            "[0]\n",
            "[1. 0.]\n"
          ]
        }
      ]
    },
    {
      "cell_type": "code",
      "source": [
        "# Visualization\n",
        "fig = plt.figure(1, figsize=(8, 6))\n",
        "plt.scatter(X[:, 0], X[:, 1], c=y, cmap=plt.cm.Set1, edgecolor=\"None\", s=40)\n",
        "plt.xlabel(\"First Feature\", fontsize=20)\n",
        "plt.ylabel(\"Second Feature\", fontsize=20)\n",
        "plt.xlim(-1,2)\n",
        "plt.ylim(-1,2)\n",
        "plt.show()"
      ],
      "metadata": {
        "colab": {
          "base_uri": "https://localhost:8080/",
          "height": 401
        },
        "id": "OQGzLSBeKea1",
        "outputId": "60acb6be-b96b-4ef0-fb4f-37350d6421d4"
      },
      "execution_count": null,
      "outputs": [
        {
          "output_type": "display_data",
          "data": {
            "image/png": "[encoded data removed]",
            "text/plain": [
              "<Figure size 576x432 with 1 Axes>"
            ]
          },
          "metadata": {
            "needs_background": "light"
          }
        }
      ]
    },
    {
      "cell_type": "markdown",
      "source": [
        "# Model training via ANN with linear layer\n",
        "Result reveals that the ANN with linear layer could not classifier the xor data successfully"
      ],
      "metadata": {
        "id": "0uOu1iyXikHT"
      }
    },
    {
      "cell_type": "code",
      "source": [
        "model = keras.Sequential()\n",
        "model.add(keras.layers.Dense(2, input_shape=(2,))) # we have two neurons for output and two neurons for input\n",
        "model.add(keras.layers.Activation(\"softmax\"))      # softmax is used for probability estimation, which is suitable for classification tasks\n",
        "model.compile(tf.keras.optimizers.SGD(learning_rate = 1e-1), 'binary_crossentropy', metrics='acc') # compile the model with a SGD optimizer, a loss of binary crossentropy, and an accuracy metric\n",
        "model.fit(X, y_onehot, epochs = 100, batch_size = 4, verbose = 2) #training the model"
      ],
      "metadata": {
        "colab": {
          "base_uri": "https://localhost:8080/"
        },
        "id": "wKUJc185IQTn",
        "outputId": "3f5e6d5c-1ff3-4c9d-8bb7-d0b9f9c370ec"
      },
      "execution_count": null,
      "outputs": [
        {
          "output_type": "stream",
          "name": "stdout",
          "text": [
            "Epoch 1/100\n",
            "1/1 - 0s - loss: 0.7865 - acc: 0.5000 - 482ms/epoch - 482ms/step\n",
            "Epoch 2/100\n",
            "1/1 - 0s - loss: 0.7841 - acc: 0.2500 - 4ms/epoch - 4ms/step\n",
            "Epoch 3/100\n",
            "1/1 - 0s - loss: 0.7818 - acc: 0.2500 - 4ms/epoch - 4ms/step\n",
            "Epoch 4/100\n",
            "1/1 - 0s - loss: 0.7795 - acc: 0.2500 - 4ms/epoch - 4ms/step\n",
            "Epoch 5/100\n",
            "1/1 - 0s - loss: 0.7774 - acc: 0.2500 - 4ms/epoch - 4ms/step\n",
            "Epoch 6/100\n",
            "1/1 - 0s - loss: 0.7752 - acc: 0.2500 - 5ms/epoch - 5ms/step\n",
            "Epoch 7/100\n",
            "1/1 - 0s - loss: 0.7732 - acc: 0.2500 - 3ms/epoch - 3ms/step\n",
            "Epoch 8/100\n",
            "1/1 - 0s - loss: 0.7711 - acc: 0.2500 - 3ms/epoch - 3ms/step\n",
            "Epoch 9/100\n",
            "1/1 - 0s - loss: 0.7692 - acc: 0.2500 - 5ms/epoch - 5ms/step\n",
            "Epoch 10/100\n",
            "1/1 - 0s - loss: 0.7673 - acc: 0.2500 - 8ms/epoch - 8ms/step\n",
            "Epoch 11/100\n",
            "1/1 - 0s - loss: 0.7654 - acc: 0.2500 - 4ms/epoch - 4ms/step\n",
            "Epoch 12/100\n",
            "1/1 - 0s - loss: 0.7636 - acc: 0.2500 - 3ms/epoch - 3ms/step\n",
            "Epoch 13/100\n",
            "1/1 - 0s - loss: 0.7619 - acc: 0.2500 - 3ms/epoch - 3ms/step\n",
            "Epoch 14/100\n",
            "1/1 - 0s - loss: 0.7601 - acc: 0.2500 - 4ms/epoch - 4ms/step\n",
            "Epoch 15/100\n",
            "1/1 - 0s - loss: 0.7585 - acc: 0.2500 - 3ms/epoch - 3ms/step\n",
            "Epoch 16/100\n",
            "1/1 - 0s - loss: 0.7569 - acc: 0.2500 - 3ms/epoch - 3ms/step\n",
            "Epoch 17/100\n",
            "1/1 - 0s - loss: 0.7553 - acc: 0.2500 - 4ms/epoch - 4ms/step\n",
            "Epoch 18/100\n",
            "1/1 - 0s - loss: 0.7538 - acc: 0.2500 - 4ms/epoch - 4ms/step\n",
            "Epoch 19/100\n",
            "1/1 - 0s - loss: 0.7523 - acc: 0.2500 - 4ms/epoch - 4ms/step\n",
            "Epoch 20/100\n",
            "1/1 - 0s - loss: 0.7508 - acc: 0.2500 - 4ms/epoch - 4ms/step\n",
            "Epoch 21/100\n",
            "1/1 - 0s - loss: 0.7494 - acc: 0.2500 - 9ms/epoch - 9ms/step\n",
            "Epoch 22/100\n",
            "1/1 - 0s - loss: 0.7481 - acc: 0.2500 - 4ms/epoch - 4ms/step\n",
            "Epoch 23/100\n",
            "1/1 - 0s - loss: 0.7468 - acc: 0.2500 - 4ms/epoch - 4ms/step\n",
            "Epoch 24/100\n",
            "1/1 - 0s - loss: 0.7455 - acc: 0.2500 - 3ms/epoch - 3ms/step\n",
            "Epoch 25/100\n",
            "1/1 - 0s - loss: 0.7442 - acc: 0.2500 - 4ms/epoch - 4ms/step\n",
            "Epoch 26/100\n",
            "1/1 - 0s - loss: 0.7430 - acc: 0.2500 - 8ms/epoch - 8ms/step\n",
            "Epoch 27/100\n",
            "1/1 - 0s - loss: 0.7419 - acc: 0.2500 - 7ms/epoch - 7ms/step\n",
            "Epoch 28/100\n",
            "1/1 - 0s - loss: 0.7407 - acc: 0.2500 - 4ms/epoch - 4ms/step\n",
            "Epoch 29/100\n",
            "1/1 - 0s - loss: 0.7396 - acc: 0.2500 - 4ms/epoch - 4ms/step\n",
            "Epoch 30/100\n",
            "1/1 - 0s - loss: 0.7386 - acc: 0.2500 - 4ms/epoch - 4ms/step\n",
            "Epoch 31/100\n",
            "1/1 - 0s - loss: 0.7375 - acc: 0.2500 - 4ms/epoch - 4ms/step\n",
            "Epoch 32/100\n",
            "1/1 - 0s - loss: 0.7365 - acc: 0.2500 - 4ms/epoch - 4ms/step\n",
            "Epoch 33/100\n",
            "1/1 - 0s - loss: 0.7355 - acc: 0.2500 - 3ms/epoch - 3ms/step\n",
            "Epoch 34/100\n",
            "1/1 - 0s - loss: 0.7346 - acc: 0.2500 - 3ms/epoch - 3ms/step\n",
            "Epoch 35/100\n",
            "1/1 - 0s - loss: 0.7337 - acc: 0.2500 - 4ms/epoch - 4ms/step\n",
            "Epoch 36/100\n",
            "1/1 - 0s - loss: 0.7328 - acc: 0.2500 - 4ms/epoch - 4ms/step\n",
            "Epoch 37/100\n",
            "1/1 - 0s - loss: 0.7319 - acc: 0.2500 - 4ms/epoch - 4ms/step\n",
            "Epoch 38/100\n",
            "1/1 - 0s - loss: 0.7311 - acc: 0.2500 - 6ms/epoch - 6ms/step\n",
            "Epoch 39/100\n",
            "1/1 - 0s - loss: 0.7303 - acc: 0.2500 - 14ms/epoch - 14ms/step\n",
            "Epoch 40/100\n",
            "1/1 - 0s - loss: 0.7295 - acc: 0.2500 - 5ms/epoch - 5ms/step\n",
            "Epoch 41/100\n",
            "1/1 - 0s - loss: 0.7287 - acc: 0.2500 - 9ms/epoch - 9ms/step\n",
            "Epoch 42/100\n",
            "1/1 - 0s - loss: 0.7280 - acc: 0.2500 - 13ms/epoch - 13ms/step\n",
            "Epoch 43/100\n",
            "1/1 - 0s - loss: 0.7272 - acc: 0.2500 - 6ms/epoch - 6ms/step\n",
            "Epoch 44/100\n",
            "1/1 - 0s - loss: 0.7265 - acc: 0.2500 - 6ms/epoch - 6ms/step\n",
            "Epoch 45/100\n",
            "1/1 - 0s - loss: 0.7259 - acc: 0.2500 - 4ms/epoch - 4ms/step\n",
            "Epoch 46/100\n",
            "1/1 - 0s - loss: 0.7252 - acc: 0.2500 - 6ms/epoch - 6ms/step\n",
            "Epoch 47/100\n",
            "1/1 - 0s - loss: 0.7246 - acc: 0.2500 - 9ms/epoch - 9ms/step\n",
            "Epoch 48/100\n",
            "1/1 - 0s - loss: 0.7240 - acc: 0.2500 - 7ms/epoch - 7ms/step\n",
            "Epoch 49/100\n",
            "1/1 - 0s - loss: 0.7234 - acc: 0.2500 - 6ms/epoch - 6ms/step\n",
            "Epoch 50/100\n",
            "1/1 - 0s - loss: 0.7228 - acc: 0.2500 - 5ms/epoch - 5ms/step\n",
            "Epoch 51/100\n",
            "1/1 - 0s - loss: 0.7222 - acc: 0.2500 - 9ms/epoch - 9ms/step\n",
            "Epoch 52/100\n",
            "1/1 - 0s - loss: 0.7217 - acc: 0.2500 - 4ms/epoch - 4ms/step\n",
            "Epoch 53/100\n",
            "1/1 - 0s - loss: 0.7212 - acc: 0.2500 - 4ms/epoch - 4ms/step\n",
            "Epoch 54/100\n",
            "1/1 - 0s - loss: 0.7207 - acc: 0.2500 - 5ms/epoch - 5ms/step\n",
            "Epoch 55/100\n",
            "1/1 - 0s - loss: 0.7202 - acc: 0.2500 - 6ms/epoch - 6ms/step\n",
            "Epoch 56/100\n",
            "1/1 - 0s - loss: 0.7197 - acc: 0.2500 - 6ms/epoch - 6ms/step\n",
            "Epoch 57/100\n",
            "1/1 - 0s - loss: 0.7192 - acc: 0.2500 - 6ms/epoch - 6ms/step\n",
            "Epoch 58/100\n",
            "1/1 - 0s - loss: 0.7188 - acc: 0.2500 - 4ms/epoch - 4ms/step\n",
            "Epoch 59/100\n",
            "1/1 - 0s - loss: 0.7183 - acc: 0.5000 - 4ms/epoch - 4ms/step\n",
            "Epoch 60/100\n",
            "1/1 - 0s - loss: 0.7179 - acc: 0.5000 - 5ms/epoch - 5ms/step\n",
            "Epoch 61/100\n",
            "1/1 - 0s - loss: 0.7175 - acc: 0.5000 - 7ms/epoch - 7ms/step\n",
            "Epoch 62/100\n",
            "1/1 - 0s - loss: 0.7171 - acc: 0.5000 - 4ms/epoch - 4ms/step\n",
            "Epoch 63/100\n",
            "1/1 - 0s - loss: 0.7167 - acc: 0.5000 - 4ms/epoch - 4ms/step\n",
            "Epoch 64/100\n",
            "1/1 - 0s - loss: 0.7163 - acc: 0.5000 - 4ms/epoch - 4ms/step\n",
            "Epoch 65/100\n",
            "1/1 - 0s - loss: 0.7160 - acc: 0.5000 - 4ms/epoch - 4ms/step\n",
            "Epoch 66/100\n",
            "1/1 - 0s - loss: 0.7156 - acc: 0.5000 - 4ms/epoch - 4ms/step\n",
            "Epoch 67/100\n",
            "1/1 - 0s - loss: 0.7153 - acc: 0.5000 - 5ms/epoch - 5ms/step\n",
            "Epoch 68/100\n",
            "1/1 - 0s - loss: 0.7149 - acc: 0.5000 - 6ms/epoch - 6ms/step\n",
            "Epoch 69/100\n",
            "1/1 - 0s - loss: 0.7146 - acc: 0.5000 - 7ms/epoch - 7ms/step\n",
            "Epoch 70/100\n",
            "1/1 - 0s - loss: 0.7143 - acc: 0.5000 - 7ms/epoch - 7ms/step\n",
            "Epoch 71/100\n",
            "1/1 - 0s - loss: 0.7140 - acc: 0.5000 - 9ms/epoch - 9ms/step\n",
            "Epoch 72/100\n",
            "1/1 - 0s - loss: 0.7137 - acc: 0.5000 - 5ms/epoch - 5ms/step\n",
            "Epoch 73/100\n",
            "1/1 - 0s - loss: 0.7134 - acc: 0.5000 - 6ms/epoch - 6ms/step\n",
            "Epoch 74/100\n",
            "1/1 - 0s - loss: 0.7131 - acc: 0.5000 - 9ms/epoch - 9ms/step\n",
            "Epoch 75/100\n",
            "1/1 - 0s - loss: 0.7129 - acc: 0.5000 - 6ms/epoch - 6ms/step\n",
            "Epoch 76/100\n",
            "1/1 - 0s - loss: 0.7126 - acc: 0.5000 - 4ms/epoch - 4ms/step\n",
            "Epoch 77/100\n",
            "1/1 - 0s - loss: 0.7123 - acc: 0.5000 - 4ms/epoch - 4ms/step\n",
            "Epoch 78/100\n",
            "1/1 - 0s - loss: 0.7121 - acc: 0.5000 - 5ms/epoch - 5ms/step\n",
            "Epoch 79/100\n",
            "1/1 - 0s - loss: 0.7118 - acc: 0.5000 - 3ms/epoch - 3ms/step\n",
            "Epoch 80/100\n",
            "1/1 - 0s - loss: 0.7116 - acc: 0.5000 - 6ms/epoch - 6ms/step\n",
            "Epoch 81/100\n",
            "1/1 - 0s - loss: 0.7114 - acc: 0.5000 - 6ms/epoch - 6ms/step\n",
            "Epoch 82/100\n",
            "1/1 - 0s - loss: 0.7112 - acc: 0.5000 - 6ms/epoch - 6ms/step\n",
            "Epoch 83/100\n",
            "1/1 - 0s - loss: 0.7109 - acc: 0.5000 - 6ms/epoch - 6ms/step\n",
            "Epoch 84/100\n",
            "1/1 - 0s - loss: 0.7107 - acc: 0.5000 - 4ms/epoch - 4ms/step\n",
            "Epoch 85/100\n",
            "1/1 - 0s - loss: 0.7105 - acc: 0.5000 - 5ms/epoch - 5ms/step\n",
            "Epoch 86/100\n",
            "1/1 - 0s - loss: 0.7103 - acc: 0.5000 - 6ms/epoch - 6ms/step\n",
            "Epoch 87/100\n",
            "1/1 - 0s - loss: 0.7101 - acc: 0.5000 - 6ms/epoch - 6ms/step\n",
            "Epoch 88/100\n",
            "1/1 - 0s - loss: 0.7099 - acc: 0.5000 - 6ms/epoch - 6ms/step\n",
            "Epoch 89/100\n",
            "1/1 - 0s - loss: 0.7098 - acc: 0.5000 - 6ms/epoch - 6ms/step\n",
            "Epoch 90/100\n",
            "1/1 - 0s - loss: 0.7096 - acc: 0.5000 - 5ms/epoch - 5ms/step\n",
            "Epoch 91/100\n",
            "1/1 - 0s - loss: 0.7094 - acc: 0.5000 - 7ms/epoch - 7ms/step\n",
            "Epoch 92/100\n",
            "1/1 - 0s - loss: 0.7092 - acc: 0.5000 - 3ms/epoch - 3ms/step\n",
            "Epoch 93/100\n",
            "1/1 - 0s - loss: 0.7091 - acc: 0.5000 - 8ms/epoch - 8ms/step\n",
            "Epoch 94/100\n",
            "1/1 - 0s - loss: 0.7089 - acc: 0.5000 - 9ms/epoch - 9ms/step\n",
            "Epoch 95/100\n",
            "1/1 - 0s - loss: 0.7088 - acc: 0.5000 - 13ms/epoch - 13ms/step\n",
            "Epoch 96/100\n",
            "1/1 - 0s - loss: 0.7086 - acc: 0.5000 - 6ms/epoch - 6ms/step\n",
            "Epoch 97/100\n",
            "1/1 - 0s - loss: 0.7084 - acc: 0.5000 - 9ms/epoch - 9ms/step\n",
            "Epoch 98/100\n",
            "1/1 - 0s - loss: 0.7083 - acc: 0.5000 - 9ms/epoch - 9ms/step\n",
            "Epoch 99/100\n",
            "1/1 - 0s - loss: 0.7082 - acc: 0.5000 - 4ms/epoch - 4ms/step\n",
            "Epoch 100/100\n",
            "1/1 - 0s - loss: 0.7080 - acc: 0.5000 - 6ms/epoch - 6ms/step\n"
          ]
        },
        {
          "output_type": "execute_result",
          "data": {
            "text/plain": [
              "<keras.callbacks.History at 0x7f6786ff4350>"
            ]
          },
          "metadata": {},
          "execution_count": 41
        }
      ]
    },
    {
      "cell_type": "code",
      "source": [
        "prediction = [np.argmax(item) for item in model.predict(X)]\n",
        "print ('Accracy with an one-layer ANN:', accuracy_score(prediction, y))"
      ],
      "metadata": {
        "colab": {
          "base_uri": "https://localhost:8080/"
        },
        "id": "JF94fsbmY7E2",
        "outputId": "73a72bb3-32b2-4f8e-f7eb-bbb3e3a338a2"
      },
      "execution_count": null,
      "outputs": [
        {
          "output_type": "stream",
          "name": "stdout",
          "text": [
            "Accracy with a one-layer ANN: 0.5\n"
          ]
        }
      ]
    },
    {
      "cell_type": "markdown",
      "source": [
        "# Model training via a nonlinear ANN\n",
        "A ten-neuron hidden layer with ReLU activation function is used."
      ],
      "metadata": {
        "id": "QuEVdA6nVUbT"
      }
    },
    {
      "cell_type": "code",
      "source": [
        "model = keras.Sequential()\n",
        "model.add(keras.layers.Dense(10, input_shape=(2,))) # In the first layer, we have ten neurons for output and two neurons for input\n",
        "model.add(keras.layers.Activation(\"relu\")) # a non-linear activation function called Rectified Linear Unit (ReLU) is employed\n",
        "model.add(keras.layers.Dense(2)) # In the second layer, we have two neurons for output and ten neurons for input\n",
        "model.add(keras.layers.Activation(\"softmax\"))      # softmax is used for probability estimation, which is suitable for classification tasks\n",
        "model.compile(tf.keras.optimizers.SGD(learning_rate = 1e-1), 'binary_crossentropy', metrics='acc') # compile the model with a SGD optimizer, a loss of binary crossentropy, and an accuracy metric\n",
        "model.fit(X, y_onehot, epochs = 100, batch_size = 4, verbose = 2) #training the model"
      ],
      "metadata": {
        "id": "GmKr6Sbf9alA",
        "colab": {
          "base_uri": "https://localhost:8080/"
        },
        "outputId": "34db89ce-02ff-4203-bd3d-c44459571c3c"
      },
      "execution_count": null,
      "outputs": [
        {
          "output_type": "stream",
          "name": "stdout",
          "text": [
            "Epoch 1/100\n",
            "1/1 - 1s - loss: 0.7084 - acc: 0.5000 - 676ms/epoch - 676ms/step\n",
            "Epoch 2/100\n",
            "1/1 - 0s - loss: 0.7070 - acc: 0.2500 - 6ms/epoch - 6ms/step\n",
            "Epoch 3/100\n",
            "1/1 - 0s - loss: 0.7057 - acc: 0.2500 - 5ms/epoch - 5ms/step\n",
            "Epoch 4/100\n",
            "1/1 - 0s - loss: 0.7044 - acc: 0.2500 - 6ms/epoch - 6ms/step\n",
            "Epoch 5/100\n",
            "1/1 - 0s - loss: 0.7031 - acc: 0.2500 - 3ms/epoch - 3ms/step\n",
            "Epoch 6/100\n",
            "1/1 - 0s - loss: 0.7019 - acc: 0.2500 - 6ms/epoch - 6ms/step\n",
            "Epoch 7/100\n",
            "1/1 - 0s - loss: 0.7007 - acc: 0.2500 - 8ms/epoch - 8ms/step\n",
            "Epoch 8/100\n",
            "1/1 - 0s - loss: 0.6995 - acc: 0.2500 - 10ms/epoch - 10ms/step\n",
            "Epoch 9/100\n",
            "1/1 - 0s - loss: 0.6983 - acc: 0.2500 - 12ms/epoch - 12ms/step\n",
            "Epoch 10/100\n",
            "1/1 - 0s - loss: 0.6972 - acc: 0.2500 - 7ms/epoch - 7ms/step\n",
            "Epoch 11/100\n",
            "1/1 - 0s - loss: 0.6961 - acc: 0.2500 - 3ms/epoch - 3ms/step\n",
            "Epoch 12/100\n",
            "1/1 - 0s - loss: 0.6950 - acc: 0.5000 - 5ms/epoch - 5ms/step\n",
            "Epoch 13/100\n",
            "1/1 - 0s - loss: 0.6939 - acc: 0.5000 - 4ms/epoch - 4ms/step\n",
            "Epoch 14/100\n",
            "1/1 - 0s - loss: 0.6929 - acc: 0.5000 - 4ms/epoch - 4ms/step\n",
            "Epoch 15/100\n",
            "1/1 - 0s - loss: 0.6920 - acc: 0.5000 - 4ms/epoch - 4ms/step\n",
            "Epoch 16/100\n",
            "1/1 - 0s - loss: 0.6911 - acc: 0.5000 - 4ms/epoch - 4ms/step\n",
            "Epoch 17/100\n",
            "1/1 - 0s - loss: 0.6901 - acc: 0.5000 - 4ms/epoch - 4ms/step\n",
            "Epoch 18/100\n",
            "1/1 - 0s - loss: 0.6893 - acc: 0.5000 - 5ms/epoch - 5ms/step\n",
            "Epoch 19/100\n",
            "1/1 - 0s - loss: 0.6884 - acc: 0.5000 - 5ms/epoch - 5ms/step\n",
            "Epoch 20/100\n",
            "1/1 - 0s - loss: 0.6876 - acc: 0.5000 - 5ms/epoch - 5ms/step\n",
            "Epoch 21/100\n",
            "1/1 - 0s - loss: 0.6868 - acc: 0.5000 - 10ms/epoch - 10ms/step\n",
            "Epoch 22/100\n",
            "1/1 - 0s - loss: 0.6859 - acc: 0.5000 - 6ms/epoch - 6ms/step\n",
            "Epoch 23/100\n",
            "1/1 - 0s - loss: 0.6851 - acc: 0.5000 - 7ms/epoch - 7ms/step\n",
            "Epoch 24/100\n",
            "1/1 - 0s - loss: 0.6843 - acc: 0.5000 - 8ms/epoch - 8ms/step\n",
            "Epoch 25/100\n",
            "1/1 - 0s - loss: 0.6835 - acc: 0.5000 - 8ms/epoch - 8ms/step\n",
            "Epoch 26/100\n",
            "1/1 - 0s - loss: 0.6827 - acc: 0.5000 - 6ms/epoch - 6ms/step\n",
            "Epoch 27/100\n",
            "1/1 - 0s - loss: 0.6819 - acc: 0.5000 - 8ms/epoch - 8ms/step\n",
            "Epoch 28/100\n",
            "1/1 - 0s - loss: 0.6812 - acc: 0.5000 - 11ms/epoch - 11ms/step\n",
            "Epoch 29/100\n",
            "1/1 - 0s - loss: 0.6804 - acc: 0.5000 - 11ms/epoch - 11ms/step\n",
            "Epoch 30/100\n",
            "1/1 - 0s - loss: 0.6797 - acc: 0.5000 - 7ms/epoch - 7ms/step\n",
            "Epoch 31/100\n",
            "1/1 - 0s - loss: 0.6788 - acc: 0.5000 - 5ms/epoch - 5ms/step\n",
            "Epoch 32/100\n",
            "1/1 - 0s - loss: 0.6781 - acc: 0.5000 - 6ms/epoch - 6ms/step\n",
            "Epoch 33/100\n",
            "1/1 - 0s - loss: 0.6774 - acc: 0.5000 - 7ms/epoch - 7ms/step\n",
            "Epoch 34/100\n",
            "1/1 - 0s - loss: 0.6766 - acc: 0.5000 - 7ms/epoch - 7ms/step\n",
            "Epoch 35/100\n",
            "1/1 - 0s - loss: 0.6759 - acc: 0.5000 - 10ms/epoch - 10ms/step\n",
            "Epoch 36/100\n",
            "1/1 - 0s - loss: 0.6751 - acc: 0.5000 - 5ms/epoch - 5ms/step\n",
            "Epoch 37/100\n",
            "1/1 - 0s - loss: 0.6744 - acc: 0.5000 - 14ms/epoch - 14ms/step\n",
            "Epoch 38/100\n",
            "1/1 - 0s - loss: 0.6737 - acc: 0.7500 - 6ms/epoch - 6ms/step\n",
            "Epoch 39/100\n",
            "1/1 - 0s - loss: 0.6729 - acc: 0.7500 - 4ms/epoch - 4ms/step\n",
            "Epoch 40/100\n",
            "1/1 - 0s - loss: 0.6722 - acc: 0.7500 - 4ms/epoch - 4ms/step\n",
            "Epoch 41/100\n",
            "1/1 - 0s - loss: 0.6714 - acc: 0.7500 - 12ms/epoch - 12ms/step\n",
            "Epoch 42/100\n",
            "1/1 - 0s - loss: 0.6707 - acc: 0.7500 - 15ms/epoch - 15ms/step\n",
            "Epoch 43/100\n",
            "1/1 - 0s - loss: 0.6700 - acc: 0.7500 - 11ms/epoch - 11ms/step\n",
            "Epoch 44/100\n",
            "1/1 - 0s - loss: 0.6693 - acc: 0.7500 - 9ms/epoch - 9ms/step\n",
            "Epoch 45/100\n",
            "1/1 - 0s - loss: 0.6686 - acc: 0.7500 - 11ms/epoch - 11ms/step\n",
            "Epoch 46/100\n",
            "1/1 - 0s - loss: 0.6679 - acc: 0.7500 - 5ms/epoch - 5ms/step\n",
            "Epoch 47/100\n",
            "1/1 - 0s - loss: 0.6672 - acc: 1.0000 - 10ms/epoch - 10ms/step\n",
            "Epoch 48/100\n",
            "1/1 - 0s - loss: 0.6665 - acc: 1.0000 - 7ms/epoch - 7ms/step\n",
            "Epoch 49/100\n",
            "1/1 - 0s - loss: 0.6657 - acc: 1.0000 - 5ms/epoch - 5ms/step\n",
            "Epoch 50/100\n",
            "1/1 - 0s - loss: 0.6651 - acc: 1.0000 - 9ms/epoch - 9ms/step\n",
            "Epoch 51/100\n",
            "1/1 - 0s - loss: 0.6643 - acc: 1.0000 - 4ms/epoch - 4ms/step\n",
            "Epoch 52/100\n",
            "1/1 - 0s - loss: 0.6637 - acc: 1.0000 - 5ms/epoch - 5ms/step\n",
            "Epoch 53/100\n",
            "1/1 - 0s - loss: 0.6629 - acc: 1.0000 - 13ms/epoch - 13ms/step\n",
            "Epoch 54/100\n",
            "1/1 - 0s - loss: 0.6623 - acc: 1.0000 - 10ms/epoch - 10ms/step\n",
            "Epoch 55/100\n",
            "1/1 - 0s - loss: 0.6615 - acc: 1.0000 - 9ms/epoch - 9ms/step\n",
            "Epoch 56/100\n",
            "1/1 - 0s - loss: 0.6608 - acc: 1.0000 - 11ms/epoch - 11ms/step\n",
            "Epoch 57/100\n",
            "1/1 - 0s - loss: 0.6601 - acc: 1.0000 - 15ms/epoch - 15ms/step\n",
            "Epoch 58/100\n",
            "1/1 - 0s - loss: 0.6593 - acc: 1.0000 - 5ms/epoch - 5ms/step\n",
            "Epoch 59/100\n",
            "1/1 - 0s - loss: 0.6587 - acc: 1.0000 - 9ms/epoch - 9ms/step\n",
            "Epoch 60/100\n",
            "1/1 - 0s - loss: 0.6579 - acc: 1.0000 - 20ms/epoch - 20ms/step\n",
            "Epoch 61/100\n",
            "1/1 - 0s - loss: 0.6573 - acc: 1.0000 - 5ms/epoch - 5ms/step\n",
            "Epoch 62/100\n",
            "1/1 - 0s - loss: 0.6565 - acc: 1.0000 - 13ms/epoch - 13ms/step\n",
            "Epoch 63/100\n",
            "1/1 - 0s - loss: 0.6557 - acc: 1.0000 - 12ms/epoch - 12ms/step\n",
            "Epoch 64/100\n",
            "1/1 - 0s - loss: 0.6551 - acc: 1.0000 - 5ms/epoch - 5ms/step\n",
            "Epoch 65/100\n",
            "1/1 - 0s - loss: 0.6543 - acc: 1.0000 - 5ms/epoch - 5ms/step\n",
            "Epoch 66/100\n",
            "1/1 - 0s - loss: 0.6537 - acc: 1.0000 - 10ms/epoch - 10ms/step\n",
            "Epoch 67/100\n",
            "1/1 - 0s - loss: 0.6529 - acc: 1.0000 - 5ms/epoch - 5ms/step\n",
            "Epoch 68/100\n",
            "1/1 - 0s - loss: 0.6521 - acc: 1.0000 - 11ms/epoch - 11ms/step\n",
            "Epoch 69/100\n",
            "1/1 - 0s - loss: 0.6514 - acc: 1.0000 - 16ms/epoch - 16ms/step\n",
            "Epoch 70/100\n",
            "1/1 - 0s - loss: 0.6506 - acc: 1.0000 - 11ms/epoch - 11ms/step\n",
            "Epoch 71/100\n",
            "1/1 - 0s - loss: 0.6499 - acc: 1.0000 - 4ms/epoch - 4ms/step\n",
            "Epoch 72/100\n",
            "1/1 - 0s - loss: 0.6491 - acc: 1.0000 - 12ms/epoch - 12ms/step\n",
            "Epoch 73/100\n",
            "1/1 - 0s - loss: 0.6483 - acc: 1.0000 - 5ms/epoch - 5ms/step\n",
            "Epoch 74/100\n",
            "1/1 - 0s - loss: 0.6476 - acc: 1.0000 - 12ms/epoch - 12ms/step\n",
            "Epoch 75/100\n",
            "1/1 - 0s - loss: 0.6467 - acc: 1.0000 - 5ms/epoch - 5ms/step\n",
            "Epoch 76/100\n",
            "1/1 - 0s - loss: 0.6461 - acc: 1.0000 - 10ms/epoch - 10ms/step\n",
            "Epoch 77/100\n",
            "1/1 - 0s - loss: 0.6452 - acc: 1.0000 - 4ms/epoch - 4ms/step\n",
            "Epoch 78/100\n",
            "1/1 - 0s - loss: 0.6445 - acc: 1.0000 - 5ms/epoch - 5ms/step\n",
            "Epoch 79/100\n",
            "1/1 - 0s - loss: 0.6437 - acc: 1.0000 - 6ms/epoch - 6ms/step\n",
            "Epoch 80/100\n",
            "1/1 - 0s - loss: 0.6428 - acc: 1.0000 - 5ms/epoch - 5ms/step\n",
            "Epoch 81/100\n",
            "1/1 - 0s - loss: 0.6422 - acc: 1.0000 - 5ms/epoch - 5ms/step\n",
            "Epoch 82/100\n",
            "1/1 - 0s - loss: 0.6412 - acc: 1.0000 - 10ms/epoch - 10ms/step\n",
            "Epoch 83/100\n",
            "1/1 - 0s - loss: 0.6406 - acc: 1.0000 - 5ms/epoch - 5ms/step\n",
            "Epoch 84/100\n",
            "1/1 - 0s - loss: 0.6397 - acc: 1.0000 - 5ms/epoch - 5ms/step\n",
            "Epoch 85/100\n",
            "1/1 - 0s - loss: 0.6389 - acc: 1.0000 - 11ms/epoch - 11ms/step\n",
            "Epoch 86/100\n",
            "1/1 - 0s - loss: 0.6381 - acc: 1.0000 - 10ms/epoch - 10ms/step\n",
            "Epoch 87/100\n",
            "1/1 - 0s - loss: 0.6372 - acc: 1.0000 - 5ms/epoch - 5ms/step\n",
            "Epoch 88/100\n",
            "1/1 - 0s - loss: 0.6365 - acc: 1.0000 - 5ms/epoch - 5ms/step\n",
            "Epoch 89/100\n",
            "1/1 - 0s - loss: 0.6355 - acc: 1.0000 - 8ms/epoch - 8ms/step\n",
            "Epoch 90/100\n",
            "1/1 - 0s - loss: 0.6348 - acc: 1.0000 - 3ms/epoch - 3ms/step\n",
            "Epoch 91/100\n",
            "1/1 - 0s - loss: 0.6339 - acc: 1.0000 - 4ms/epoch - 4ms/step\n",
            "Epoch 92/100\n",
            "1/1 - 0s - loss: 0.6330 - acc: 1.0000 - 9ms/epoch - 9ms/step\n",
            "Epoch 93/100\n",
            "1/1 - 0s - loss: 0.6323 - acc: 1.0000 - 4ms/epoch - 4ms/step\n",
            "Epoch 94/100\n",
            "1/1 - 0s - loss: 0.6313 - acc: 1.0000 - 4ms/epoch - 4ms/step\n",
            "Epoch 95/100\n",
            "1/1 - 0s - loss: 0.6305 - acc: 1.0000 - 5ms/epoch - 5ms/step\n",
            "Epoch 96/100\n",
            "1/1 - 0s - loss: 0.6296 - acc: 1.0000 - 6ms/epoch - 6ms/step\n",
            "Epoch 97/100\n",
            "1/1 - 0s - loss: 0.6287 - acc: 1.0000 - 6ms/epoch - 6ms/step\n",
            "Epoch 98/100\n",
            "1/1 - 0s - loss: 0.6279 - acc: 1.0000 - 7ms/epoch - 7ms/step\n",
            "Epoch 99/100\n",
            "1/1 - 0s - loss: 0.6268 - acc: 1.0000 - 7ms/epoch - 7ms/step\n",
            "Epoch 100/100\n",
            "1/1 - 0s - loss: 0.6261 - acc: 1.0000 - 5ms/epoch - 5ms/step\n"
          ]
        },
        {
          "output_type": "execute_result",
          "data": {
            "text/plain": [
              "<keras.callbacks.History at 0x7f67870e1690>"
            ]
          },
          "metadata": {},
          "execution_count": 39
        }
      ]
    },
    {
      "cell_type": "code",
      "source": [
        "prediction = [np.argmax(item) for item in model.predict(X)]\n",
        "print ('Accracy with a nonlinear-layer ANN:', accuracy_score(prediction,y))"
      ],
      "metadata": {
        "colab": {
          "base_uri": "https://localhost:8080/"
        },
        "id": "F1d4YUE0disZ",
        "outputId": "6bde494e-264c-4bb0-de4a-54b66f1cdaa6"
      },
      "execution_count": null,
      "outputs": [
        {
          "output_type": "stream",
          "name": "stdout",
          "text": [
            "Accracy with a nonlinear-layer ANN: 1.0\n"
          ]
        }
      ]
    },
    {
      "cell_type": "code",
      "source": [],
      "metadata": {
        "id": "9YKgplQqVJK4"
      },
      "execution_count": null,
      "outputs": []
    }
  ]
}